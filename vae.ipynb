{
 "cells": [
  {
   "cell_type": "code",
   "execution_count": 1,
   "metadata": {
    "collapsed": true
   },
   "outputs": [],
   "source": [
    "# https://qiita.com/kenmatsu4/items/b029d697e9995d93aa24\n",
    "from __future__ import print_function\n",
    "import matplotlib.pyplot as plt\n",
    "import matplotlib.gridspec as gridspec\n",
    "import torch\n",
    "import torch.utils.data\n",
    "from torch import nn, optim\n",
    "from torch.autograd import Variable\n",
    "from torch.nn import functional as F\n",
    "from torchvision import datasets, transforms\n",
    "from torchvision.utils import save_image\n",
    "%matplotlib inline  "
   ]
  },
  {
   "cell_type": "code",
   "execution_count": 2,
   "metadata": {
    "collapsed": true
   },
   "outputs": [],
   "source": [
    "use_cuda = True\n",
    "batch_size = 32\n",
    "latent_size = 20 # z dim\n",
    "\n",
    "kwargs = {'num_workers': 1, 'pin_memory': True} if use_cuda else {}\n",
    "train_loader = torch.utils.data.DataLoader(\n",
    "        datasets.MNIST('../data', train=True, download=True,\n",
    "                       transform=transforms.ToTensor()),\n",
    "        batch_size=batch_size, shuffle=True, **kwargs)\n",
    "test_loader = torch.utils.data.DataLoader(\n",
    "        datasets.MNIST('../data', train=False,\n",
    "                       transform=transforms.ToTensor()),\n",
    "        batch_size=batch_size, shuffle=True, **kwargs)"
   ]
  },
  {
   "cell_type": "code",
   "execution_count": 3,
   "metadata": {},
   "outputs": [],
   "source": [
    "def to_var(x):\n",
    "    x = Variable(x)\n",
    "    if use_cuda:\n",
    "        x = x.cuda()\n",
    "    return x\n",
    "\n",
    "# Reconstruction + KL divergence losses summed over all elements and batch\n",
    "def loss_function(recon_x, x, mu, logvar):\n",
    "    bs = recon_x.size(0)\n",
    "    BCE = F.binary_cross_entropy(recon_x, x.view(-1, 28*28), size_average=False)\n",
    "    # see Appendix B from VAE paper:\n",
    "    # Kingma and Welling. Auto-Encoding Variational Bayes. ICLR, 2014\n",
    "    # https://arxiv.org/abs/1312.6114\n",
    "    # 0.5 * sum(1 + log(sigma^2) - mu^2 - sigma^2)\n",
    "    KLD = -0.5 * torch.sum(1 + logvar - mu.pow(2) - logvar.exp())\n",
    "    return (BCE + KLD) / bs"
   ]
  },
  {
   "cell_type": "code",
   "execution_count": 4,
   "metadata": {
    "collapsed": true
   },
   "outputs": [],
   "source": [
    "class VAE(nn.Module):\n",
    "    def __init__(self, feature_size, latent_size):\n",
    "        super(VAE, self).__init__()\n",
    "        self.feature_size = feature_size\n",
    "\n",
    "        # encode\n",
    "        self.fc1  = nn.Linear(feature_size, 400)\n",
    "        self.fc21 = nn.Linear(400, latent_size)\n",
    "        self.fc22 = nn.Linear(400, latent_size)\n",
    "\n",
    "        # decode\n",
    "        self.fc3 = nn.Linear(latent_size, 400)\n",
    "        self.fc4 = nn.Linear(400, feature_size)\n",
    "\n",
    "        self.relu = nn.ReLU()\n",
    "        self.sigmoid = nn.Sigmoid()\n",
    "\n",
    "    def encode(self, x): # Q(z|x)\n",
    "        '''\n",
    "        x: (bs, feature_size)\n",
    "        '''\n",
    "        h1 = self.relu(self.fc1(x))\n",
    "        z_mu = self.fc21(h1)\n",
    "        z_var = self.fc22(h1)\n",
    "        return z_mu, z_var\n",
    "\n",
    "    def reparametrize(self, mu, logvar):\n",
    "        if self.training:\n",
    "            std = logvar.mul(0.5).exp_()\n",
    "            eps = Variable(std.data.new(std.size()).normal_())\n",
    "            return eps.mul(std) + mu\n",
    "        else:\n",
    "            return mu\n",
    "\n",
    "    def decode(self, z): # P(x|z)\n",
    "        '''\n",
    "        z: (bs, latent_size)\n",
    "        '''\n",
    "        h3 = self.relu(self.fc3(z))\n",
    "        return self.sigmoid(self.fc4(h3))\n",
    "\n",
    "    def forward(self, x):\n",
    "        mu, logvar = self.encode(x.view(-1, 28*28))\n",
    "        z = self.reparametrize(mu, logvar)\n",
    "        return self.decode(z), mu, logvar"
   ]
  },
  {
   "cell_type": "code",
   "execution_count": 5,
   "metadata": {
    "collapsed": true
   },
   "outputs": [],
   "source": [
    "def train(epoch):\n",
    "    model.train()\n",
    "    train_loss = 0\n",
    "    for batch_idx, (data, labels) in enumerate(train_loader):\n",
    "        data = to_var(data)\n",
    "        recon_batch, mu, logvar = model(data)\n",
    "        optimizer.zero_grad()\n",
    "        loss = loss_function(recon_batch, data, mu, logvar)\n",
    "        loss.backward()\n",
    "        train_loss += loss.data[0]\n",
    "        optimizer.step()\n",
    "        if batch_idx % 500 == 0:\n",
    "            print('Train Epoch: {} [{}/{} ({:.0f}%)]\\tLoss: {:.6f}'.format(\n",
    "                epoch, batch_idx * len(data), len(train_loader.dataset),\n",
    "                100. * batch_idx / len(train_loader),\n",
    "                loss.data[0] / len(data)))\n",
    "\n",
    "def test(epoch):\n",
    "    model.eval()\n",
    "    test_loss = 0\n",
    "    for i, (data, labels) in enumerate(test_loader):\n",
    "        data = to_var(data)\n",
    "        recon_batch, mu, logvar = model(data)\n",
    "        test_loss += loss_function(recon_batch, data, mu, logvar).data[0]\n",
    "        if i == 0:\n",
    "            n = min(data.size(0), 8)\n",
    "            comparison = torch.cat([data[:n],\n",
    "                                  recon_batch.view(batch_size, 1, 28, 28)[:n]])\n",
    "            save_image(comparison.data.cpu(),\n",
    "                     'results/reconstruction_' + str(epoch) + '.png', nrow=n)\n",
    "\n",
    "    test_loss /= len(test_loader.dataset)\n",
    "    print('====> Test set loss: {:.4f}'.format(test_loss))"
   ]
  },
  {
   "cell_type": "code",
   "execution_count": 6,
   "metadata": {
    "collapsed": true
   },
   "outputs": [],
   "source": [
    "model = VAE(28*28, latent_size)\n",
    "if use_cuda:\n",
    "    model.cuda()\n",
    "optimizer = optim.Adam(model.parameters(), lr=1e-3)"
   ]
  },
  {
   "cell_type": "code",
   "execution_count": 7,
   "metadata": {},
   "outputs": [
    {
     "name": "stdout",
     "output_type": "stream",
     "text": [
      "Train Epoch: 1 [0/60000 (0%)]\tLoss: 17.218344\n",
      "Train Epoch: 1 [16000/60000 (27%)]\tLoss: 4.081539\n",
      "Train Epoch: 1 [32000/60000 (53%)]\tLoss: 3.871977\n",
      "Train Epoch: 1 [48000/60000 (80%)]\tLoss: 3.817138\n",
      "Train Epoch: 2 [0/60000 (0%)]\tLoss: 3.761353\n",
      "Train Epoch: 2 [16000/60000 (27%)]\tLoss: 3.529510\n",
      "Train Epoch: 2 [32000/60000 (53%)]\tLoss: 3.370446\n",
      "Train Epoch: 2 [48000/60000 (80%)]\tLoss: 2.897512\n",
      "Train Epoch: 3 [0/60000 (0%)]\tLoss: 3.209020\n",
      "Train Epoch: 3 [16000/60000 (27%)]\tLoss: 3.244155\n",
      "Train Epoch: 3 [32000/60000 (53%)]\tLoss: 3.477097\n",
      "Train Epoch: 3 [48000/60000 (80%)]\tLoss: 3.319956\n",
      "Train Epoch: 4 [0/60000 (0%)]\tLoss: 3.245243\n",
      "Train Epoch: 4 [16000/60000 (27%)]\tLoss: 3.372927\n",
      "Train Epoch: 4 [32000/60000 (53%)]\tLoss: 3.549539\n",
      "Train Epoch: 4 [48000/60000 (80%)]\tLoss: 3.354701\n",
      "Train Epoch: 5 [0/60000 (0%)]\tLoss: 3.576604\n",
      "Train Epoch: 5 [16000/60000 (27%)]\tLoss: 3.483650\n",
      "Train Epoch: 5 [32000/60000 (53%)]\tLoss: 3.496179\n",
      "Train Epoch: 5 [48000/60000 (80%)]\tLoss: 3.354993\n",
      "Train Epoch: 6 [0/60000 (0%)]\tLoss: 3.536632\n",
      "Train Epoch: 6 [16000/60000 (27%)]\tLoss: 3.391379\n",
      "Train Epoch: 6 [32000/60000 (53%)]\tLoss: 3.271328\n",
      "Train Epoch: 6 [48000/60000 (80%)]\tLoss: 3.383426\n",
      "Train Epoch: 7 [0/60000 (0%)]\tLoss: 3.537288\n",
      "Train Epoch: 7 [16000/60000 (27%)]\tLoss: 3.192325\n",
      "Train Epoch: 7 [32000/60000 (53%)]\tLoss: 3.459355\n",
      "Train Epoch: 7 [48000/60000 (80%)]\tLoss: 3.150836\n",
      "Train Epoch: 8 [0/60000 (0%)]\tLoss: 3.526077\n",
      "Train Epoch: 8 [16000/60000 (27%)]\tLoss: 3.358228\n",
      "Train Epoch: 8 [32000/60000 (53%)]\tLoss: 3.391103\n",
      "Train Epoch: 8 [48000/60000 (80%)]\tLoss: 3.297000\n",
      "Train Epoch: 9 [0/60000 (0%)]\tLoss: 3.307764\n",
      "Train Epoch: 9 [16000/60000 (27%)]\tLoss: 3.411191\n",
      "Train Epoch: 9 [32000/60000 (53%)]\tLoss: 3.315590\n",
      "Train Epoch: 9 [48000/60000 (80%)]\tLoss: 3.318712\n"
     ]
    }
   ],
   "source": [
    "for epoch in range(1, 10):\n",
    "    train(epoch)"
   ]
  },
  {
   "cell_type": "code",
   "execution_count": 9,
   "metadata": {},
   "outputs": [
    {
     "name": "stdout",
     "output_type": "stream",
     "text": [
      "Transition labels: 8 --> 1\n"
     ]
    },
    {
     "data": {
      "image/png": "[encoded data removed]",
      "text/plain": [
       "<matplotlib.figure.Figure at 0x7f64a80da9e8>"
      ]
     },
     "metadata": {},
     "output_type": "display_data"
    }
   ],
   "source": [
    "# Let's see a transition from labels[0] to labels[1]\n",
    "model.eval()\n",
    "for i, (data, labels) in enumerate(train_loader):\n",
    "    data = to_var(data)\n",
    "    mu, logvar = model.encode(data.view(-1, 28*28))\n",
    "#     print(mu.size(), mu[:3], logvar[:3])\n",
    "    z = model.reparametrize(mu, logvar)\n",
    "    print('Transition labels:', labels[0], '-->', labels[1])\n",
    "    z_cont = to_var(torch.zeros(10, latent_size))\n",
    "    for i in range(10):\n",
    "        t = 1.0 - i/9\n",
    "        z_cont[i] = t * z[0] + (1-t) * z[1]\n",
    "    samples = model.decode(z_cont).data.cpu().numpy()\n",
    "\n",
    "    fig = plt.figure(figsize=(10, 10))\n",
    "    gs = gridspec.GridSpec(10, 10)\n",
    "    gs.update(wspace=0.05, hspace=0.05)\n",
    "    for i, sample in enumerate(samples):\n",
    "            ax = plt.subplot(gs[i])\n",
    "            plt.axis('off')\n",
    "            ax.set_xticklabels([])\n",
    "            ax.set_yticklabels([])\n",
    "            ax.set_aspect('equal')\n",
    "            plt.imshow(sample.reshape(28, 28), cmap='Greys_r')\n",
    "    break"
   ]
  },
  {
   "cell_type": "code",
   "execution_count": null,
   "metadata": {
    "collapsed": true
   },
   "outputs": [],
   "source": []
  }
 ],
 "metadata": {
  "kernelspec": {
   "display_name": "Python 3",
   "language": "python",
   "name": "python3"
  },
  "language_info": {
   "codemirror_mode": {
    "name": "ipython",
    "version": 3
   },
   "file_extension": ".py",
   "mimetype": "text/x-python",
   "name": "python",
   "nbconvert_exporter": "python",
   "pygments_lexer": "ipython3",
   "version": "3.6.3"
  }
 },
 "nbformat": 4,
 "nbformat_minor": 2
}
