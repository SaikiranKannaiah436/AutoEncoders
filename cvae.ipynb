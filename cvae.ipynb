{
 "cells": [
  {
   "cell_type": "code",
   "execution_count": 24,
   "metadata": {
    "collapsed": true
   },
   "outputs": [],
   "source": [
    "from __future__ import print_function\n",
    "import matplotlib.pyplot as plt\n",
    "import matplotlib.gridspec as gridspec\n",
    "import torch\n",
    "import torch.utils.data\n",
    "from torch import nn, optim\n",
    "from torch.autograd import Variable\n",
    "from torch.nn import functional as F\n",
    "from torchvision import datasets, transforms\n",
    "from torchvision.utils import save_image\n",
    "%matplotlib inline  "
   ]
  },
  {
   "cell_type": "code",
   "execution_count": 2,
   "metadata": {
    "collapsed": true
   },
   "outputs": [],
   "source": [
    "def to_var(x):\n",
    "    x = Variable(x)\n",
    "    if use_cuda:\n",
    "        x = x.cuda()\n",
    "    return x\n",
    "\n",
    "def one_hot(labels, class_size):\n",
    "    targets = torch.zeros(labels.size(0), class_size)\n",
    "    for i, label in enumerate(labels):\n",
    "        targets[i, label] = 1\n",
    "    return to_var(targets)"
   ]
  },
  {
   "cell_type": "code",
   "execution_count": 14,
   "metadata": {
    "collapsed": true
   },
   "outputs": [],
   "source": [
    "use_cuda = True\n",
    "batch_size = 32\n",
    "latent_size = 20 # z dim\n",
    "\n",
    "kwargs = {'num_workers': 1, 'pin_memory': True} if use_cuda else {}\n",
    "train_loader = torch.utils.data.DataLoader(\n",
    "        datasets.MNIST('../data', train=True, download=True,\n",
    "                       transform=transforms.ToTensor()),\n",
    "        batch_size=batch_size, shuffle=True, **kwargs)\n",
    "test_loader = torch.utils.data.DataLoader(\n",
    "        datasets.MNIST('../data', train=False,\n",
    "                       transform=transforms.ToTensor()),\n",
    "        batch_size=batch_size, shuffle=True, **kwargs)\n"
   ]
  },
  {
   "cell_type": "code",
   "execution_count": 4,
   "metadata": {
    "collapsed": true
   },
   "outputs": [],
   "source": [
    "# Reconstruction + KL divergence losses summed over all elements and batch\n",
    "def loss_function(recon_x, x, mu, logvar):\n",
    "    BCE = F.binary_cross_entropy(recon_x, x.view(-1, 28*28), size_average=False)\n",
    "    # see Appendix B from VAE paper:\n",
    "    # Kingma and Welling. Auto-Encoding Variational Bayes. ICLR, 2014\n",
    "    # https://arxiv.org/abs/1312.6114\n",
    "    # 0.5 * sum(1 + log(sigma^2) - mu^2 - sigma^2)\n",
    "    KLD = -0.5 * torch.sum(1 + logvar - mu.pow(2) - logvar.exp())\n",
    "    return BCE + KLD"
   ]
  },
  {
   "cell_type": "code",
   "execution_count": 5,
   "metadata": {
    "collapsed": true
   },
   "outputs": [],
   "source": [
    "class CVAE(nn.Module):\n",
    "    def __init__(self, feature_size, latent_size, class_size):\n",
    "        super(CVAE, self).__init__()\n",
    "        self.feature_size = feature_size\n",
    "        self.class_size = class_size\n",
    "\n",
    "        # encode\n",
    "        self.fc1  = nn.Linear(feature_size + class_size, 400)\n",
    "        self.fc21 = nn.Linear(400, latent_size)\n",
    "        self.fc22 = nn.Linear(400, latent_size)\n",
    "\n",
    "        # decode\n",
    "        self.fc3 = nn.Linear(latent_size + class_size, 400)\n",
    "        self.fc4 = nn.Linear(400, feature_size)\n",
    "\n",
    "        self.relu = nn.ReLU()\n",
    "        self.sigmoid = nn.Sigmoid()\n",
    "\n",
    "    def encode(self, x, c): # Q(z|x, c)\n",
    "        '''\n",
    "        x: (bs, feature_size)\n",
    "        c: (bs, class_size)\n",
    "        '''\n",
    "        inputs = torch.cat([x, c], 1) # (bs, feature_size+class_size)\n",
    "        h1 = self.relu(self.fc1(inputs))\n",
    "        z_mu = self.fc21(h1)\n",
    "        z_var = self.fc22(h1)\n",
    "        return z_mu, z_var\n",
    "\n",
    "    def reparametrize(self, mu, logvar):\n",
    "        if self.training:\n",
    "            std = logvar.mul(0.5).exp_()\n",
    "            eps = Variable(std.data.new(std.size()).normal_())\n",
    "            return eps.mul(std) + mu\n",
    "        else:\n",
    "            return mu\n",
    "\n",
    "    def decode(self, z, c): # P(x|z, c)\n",
    "        '''\n",
    "        z: (bs, latent_size)\n",
    "        c: (bs, class_size)\n",
    "        '''\n",
    "        inputs = torch.cat([z, c], 1) # (bs, latent_size+class_size)\n",
    "        h3 = self.relu(self.fc3(inputs))\n",
    "        return self.sigmoid(self.fc4(h3))\n",
    "\n",
    "    def forward(self, x, c):\n",
    "        mu, logvar = self.encode(x.view(-1, 28*28), c)\n",
    "        z = self.reparametrize(mu, logvar)\n",
    "        return self.decode(z, c), mu, logvar\n"
   ]
  },
  {
   "cell_type": "code",
   "execution_count": 10,
   "metadata": {
    "collapsed": true
   },
   "outputs": [],
   "source": [
    "def train(epoch):\n",
    "    model.train()\n",
    "    train_loss = 0\n",
    "    for batch_idx, (data, labels) in enumerate(train_loader):\n",
    "        data = to_var(data)\n",
    "        labels = one_hot(labels, 10)\n",
    "        recon_batch, mu, logvar = model(data, labels)\n",
    "        optimizer.zero_grad()\n",
    "        loss = loss_function(recon_batch, data, mu, logvar)\n",
    "        loss.backward()\n",
    "        train_loss += loss.data[0]\n",
    "        optimizer.step()\n",
    "        if batch_idx % 100 == 0:\n",
    "            print('Train Epoch: {} [{}/{} ({:.0f}%)]\\tLoss: {:.6f}'.format(\n",
    "                epoch, batch_idx * len(data), len(train_loader.dataset),\n",
    "                100. * batch_idx / len(train_loader),\n",
    "                loss.data[0] / len(data)))\n",
    "\n",
    "def test(epoch):\n",
    "    model.eval()\n",
    "    test_loss = 0\n",
    "    for i, (data, labels) in enumerate(test_loader):\n",
    "        data = to_var(data)\n",
    "        labels = one_hot(labels, 10)\n",
    "        recon_batch, mu, logvar = model(data, labels)\n",
    "        test_loss += loss_function(recon_batch, data, mu, logvar).data[0]\n",
    "        if i == 0:\n",
    "            n = min(data.size(0), 8)\n",
    "            comparison = torch.cat([data[:n],\n",
    "                                  recon_batch.view(batch_size, 1, 28, 28)[:n]])\n",
    "            save_image(comparison.data.cpu(),\n",
    "                     'results/reconstruction_' + str(epoch) + '.png', nrow=n)\n",
    "\n",
    "    test_loss /= len(test_loader.dataset)\n",
    "    print('====> Test set loss: {:.4f}'.format(test_loss))"
   ]
  },
  {
   "cell_type": "code",
   "execution_count": 11,
   "metadata": {
    "collapsed": true
   },
   "outputs": [],
   "source": [
    "model = CVAE(28*28, latent_size, 10)\n",
    "if use_cuda:\n",
    "    model.cuda()\n",
    "optimizer = optim.Adam(model.parameters(), lr=1e-3)"
   ]
  },
  {
   "cell_type": "code",
   "execution_count": 36,
   "metadata": {},
   "outputs": [
    {
     "name": "stdout",
     "output_type": "stream",
     "text": [
      "Train Epoch: 1 [0/60000 (0%)]\tLoss: 95.772041\n",
      "Train Epoch: 1 [3200/60000 (5%)]\tLoss: 101.791367\n",
      "Train Epoch: 1 [6400/60000 (11%)]\tLoss: 108.886139\n",
      "Train Epoch: 1 [9600/60000 (16%)]\tLoss: 107.123711\n",
      "Train Epoch: 1 [12800/60000 (21%)]\tLoss: 102.856590\n",
      "Train Epoch: 1 [16000/60000 (27%)]\tLoss: 104.814545\n",
      "Train Epoch: 1 [19200/60000 (32%)]\tLoss: 102.114456\n",
      "Train Epoch: 1 [22400/60000 (37%)]\tLoss: 101.982079\n",
      "Train Epoch: 1 [25600/60000 (43%)]\tLoss: 95.100632\n",
      "Train Epoch: 1 [28800/60000 (48%)]\tLoss: 99.111038\n",
      "Train Epoch: 1 [32000/60000 (53%)]\tLoss: 101.874237\n",
      "Train Epoch: 1 [35200/60000 (59%)]\tLoss: 98.476517\n",
      "Train Epoch: 1 [38400/60000 (64%)]\tLoss: 90.439148\n",
      "Train Epoch: 1 [41600/60000 (69%)]\tLoss: 106.079384\n",
      "Train Epoch: 1 [44800/60000 (75%)]\tLoss: 96.091431\n",
      "Train Epoch: 1 [48000/60000 (80%)]\tLoss: 97.590202\n",
      "Train Epoch: 1 [51200/60000 (85%)]\tLoss: 98.242386\n",
      "Train Epoch: 1 [54400/60000 (91%)]\tLoss: 99.468758\n",
      "Train Epoch: 1 [57600/60000 (96%)]\tLoss: 91.424332\n",
      "Train Epoch: 2 [0/60000 (0%)]\tLoss: 98.569191\n",
      "Train Epoch: 2 [3200/60000 (5%)]\tLoss: 111.045578\n",
      "Train Epoch: 2 [6400/60000 (11%)]\tLoss: 100.270325\n",
      "Train Epoch: 2 [9600/60000 (16%)]\tLoss: 97.955864\n",
      "Train Epoch: 2 [12800/60000 (21%)]\tLoss: 100.869789\n",
      "Train Epoch: 2 [16000/60000 (27%)]\tLoss: 101.560143\n",
      "Train Epoch: 2 [19200/60000 (32%)]\tLoss: 110.019043\n",
      "Train Epoch: 2 [22400/60000 (37%)]\tLoss: 99.946541\n",
      "Train Epoch: 2 [25600/60000 (43%)]\tLoss: 102.719482\n",
      "Train Epoch: 2 [28800/60000 (48%)]\tLoss: 96.441124\n",
      "Train Epoch: 2 [32000/60000 (53%)]\tLoss: 104.635857\n",
      "Train Epoch: 2 [35200/60000 (59%)]\tLoss: 102.343994\n",
      "Train Epoch: 2 [38400/60000 (64%)]\tLoss: 104.559082\n",
      "Train Epoch: 2 [41600/60000 (69%)]\tLoss: 94.633484\n",
      "Train Epoch: 2 [44800/60000 (75%)]\tLoss: 101.107796\n",
      "Train Epoch: 2 [48000/60000 (80%)]\tLoss: 106.423691\n",
      "Train Epoch: 2 [51200/60000 (85%)]\tLoss: 100.603188\n",
      "Train Epoch: 2 [54400/60000 (91%)]\tLoss: 100.929359\n",
      "Train Epoch: 2 [57600/60000 (96%)]\tLoss: 93.679855\n",
      "Train Epoch: 3 [0/60000 (0%)]\tLoss: 101.269852\n",
      "Train Epoch: 3 [3200/60000 (5%)]\tLoss: 95.890236\n",
      "Train Epoch: 3 [6400/60000 (11%)]\tLoss: 99.369919\n",
      "Train Epoch: 3 [9600/60000 (16%)]\tLoss: 102.491486\n",
      "Train Epoch: 3 [12800/60000 (21%)]\tLoss: 101.915710\n",
      "Train Epoch: 3 [16000/60000 (27%)]\tLoss: 93.857330\n",
      "Train Epoch: 3 [19200/60000 (32%)]\tLoss: 98.742508\n",
      "Train Epoch: 3 [22400/60000 (37%)]\tLoss: 105.835159\n",
      "Train Epoch: 3 [25600/60000 (43%)]\tLoss: 104.043739\n",
      "Train Epoch: 3 [28800/60000 (48%)]\tLoss: 98.177483\n",
      "Train Epoch: 3 [32000/60000 (53%)]\tLoss: 101.324654\n",
      "Train Epoch: 3 [35200/60000 (59%)]\tLoss: 99.104156\n",
      "Train Epoch: 3 [38400/60000 (64%)]\tLoss: 102.759735\n",
      "Train Epoch: 3 [41600/60000 (69%)]\tLoss: 94.927139\n",
      "Train Epoch: 3 [44800/60000 (75%)]\tLoss: 102.393555\n",
      "Train Epoch: 3 [48000/60000 (80%)]\tLoss: 101.236992\n",
      "Train Epoch: 3 [51200/60000 (85%)]\tLoss: 104.086678\n",
      "Train Epoch: 3 [54400/60000 (91%)]\tLoss: 103.022438\n",
      "Train Epoch: 3 [57600/60000 (96%)]\tLoss: 94.929085\n",
      "Train Epoch: 4 [0/60000 (0%)]\tLoss: 99.075905\n",
      "Train Epoch: 4 [3200/60000 (5%)]\tLoss: 97.483910\n",
      "Train Epoch: 4 [6400/60000 (11%)]\tLoss: 98.114410\n",
      "Train Epoch: 4 [9600/60000 (16%)]\tLoss: 93.380424\n",
      "Train Epoch: 4 [12800/60000 (21%)]\tLoss: 104.724915\n",
      "Train Epoch: 4 [16000/60000 (27%)]\tLoss: 104.771347\n",
      "Train Epoch: 4 [19200/60000 (32%)]\tLoss: 102.350525\n",
      "Train Epoch: 4 [22400/60000 (37%)]\tLoss: 92.505173\n",
      "Train Epoch: 4 [25600/60000 (43%)]\tLoss: 106.174950\n",
      "Train Epoch: 4 [28800/60000 (48%)]\tLoss: 100.242798\n",
      "Train Epoch: 4 [32000/60000 (53%)]\tLoss: 107.225479\n",
      "Train Epoch: 4 [35200/60000 (59%)]\tLoss: 104.426834\n",
      "Train Epoch: 4 [38400/60000 (64%)]\tLoss: 109.101776\n",
      "Train Epoch: 4 [41600/60000 (69%)]\tLoss: 90.183517\n",
      "Train Epoch: 4 [44800/60000 (75%)]\tLoss: 92.992958\n",
      "Train Epoch: 4 [48000/60000 (80%)]\tLoss: 93.703918\n",
      "Train Epoch: 4 [51200/60000 (85%)]\tLoss: 102.534538\n",
      "Train Epoch: 4 [54400/60000 (91%)]\tLoss: 103.173248\n",
      "Train Epoch: 4 [57600/60000 (96%)]\tLoss: 98.651817\n"
     ]
    }
   ],
   "source": [
    "for epoch in range(1, 5):\n",
    "    train(epoch)\n",
    "#     break"
   ]
  },
  {
   "cell_type": "code",
   "execution_count": 13,
   "metadata": {},
   "outputs": [
    {
     "name": "stdout",
     "output_type": "stream",
     "text": [
      "====> Test set loss: 104.0807\n"
     ]
    }
   ],
   "source": [
    "test(3)"
   ]
  },
  {
   "cell_type": "code",
   "execution_count": 41,
   "metadata": {},
   "outputs": [
    {
     "data": {
      "image/png": "[encoded data removed]",
      "text/plain": [
       "<matplotlib.figure.Figure at 0x7f1fe053f780>"
      ]
     },
     "metadata": {},
     "output_type": "display_data"
    }
   ],
   "source": [
    "c = torch.zeros(16, 10)\n",
    "c[0, 4] = 1\n",
    "c = to_var(c)\n",
    "z = to_var(torch.randn(16, latent_size))\n",
    "samples = model.decode(z, c).data.cpu().numpy()\n",
    "\n",
    "fig = plt.figure(figsize=(4, 4))\n",
    "gs = gridspec.GridSpec(4, 4)\n",
    "gs.update(wspace=0.05, hspace=0.05)\n",
    "for i, sample in enumerate(samples):\n",
    "        ax = plt.subplot(gs[i])\n",
    "        plt.axis('off')\n",
    "        ax.set_xticklabels([])\n",
    "        ax.set_yticklabels([])\n",
    "        ax.set_aspect('equal')\n",
    "        plt.imshow(sample.reshape(28, 28), cmap='Greys_r')"
   ]
  },
  {
   "cell_type": "code",
   "execution_count": null,
   "metadata": {
    "collapsed": true
   },
   "outputs": [],
   "source": []
  },
  {
   "cell_type": "code",
   "execution_count": null,
   "metadata": {
    "collapsed": true
   },
   "outputs": [],
   "source": []
  }
 ],
 "metadata": {
  "kernelspec": {
   "display_name": "Python 3",
   "language": "python",
   "name": "python3"
  },
  "language_info": {
   "codemirror_mode": {
    "name": "ipython",
    "version": 3
   },
   "file_extension": ".py",
   "mimetype": "text/x-python",
   "name": "python",
   "nbconvert_exporter": "python",
   "pygments_lexer": "ipython3",
   "version": "3.6.3"
  }
 },
 "nbformat": 4,
 "nbformat_minor": 2
}
